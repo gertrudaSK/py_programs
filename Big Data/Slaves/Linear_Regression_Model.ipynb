{
 "cells": [
  {
   "cell_type": "code",
   "execution_count": 1,
   "metadata": {},
   "outputs": [],
   "source": [
    "import pickle\n",
    "import numpy as np\n",
    "import pandas as pd\n",
    "import seaborn as sns\n",
    "import matplotlib.pyplot as plt\n",
    "from sklearn.model_selection import train_test_split\n",
    "from sklearn.linear_model import LinearRegression"
   ]
  },
  {
   "cell_type": "code",
   "execution_count": 2,
   "metadata": {},
   "outputs": [],
   "source": [
    "with open('cleaned_data.pkl', 'rb') as pickle_in:\n",
    "    data = pickle.load(pickle_in)"
   ]
  },
  {
   "cell_type": "code",
   "execution_count": 3,
   "metadata": {},
   "outputs": [
    {
     "data": {
      "text/html": [
       "<div>\n",
       "<style scoped>\n",
       "    .dataframe tbody tr th:only-of-type {\n",
       "        vertical-align: middle;\n",
       "    }\n",
       "\n",
       "    .dataframe tbody tr th {\n",
       "        vertical-align: top;\n",
       "    }\n",
       "\n",
       "    .dataframe thead th {\n",
       "        text-align: right;\n",
       "    }\n",
       "</style>\n",
       "<table border=\"1\" class=\"dataframe\">\n",
       "  <thead>\n",
       "    <tr style=\"text-align: right;\">\n",
       "      <th></th>\n",
       "      <th>ID number</th>\n",
       "      <th>Age</th>\n",
       "      <th>Price</th>\n",
       "      <th>Slaves Total</th>\n",
       "      <th>Children Total</th>\n",
       "      <th>Age Child 1</th>\n",
       "      <th>Age Child 2</th>\n",
       "      <th>Age Child 3</th>\n",
       "      <th>Age Child 4</th>\n",
       "      <th>Age Child 5</th>\n",
       "      <th>...</th>\n",
       "      <th>Light Brown</th>\n",
       "      <th>Light Griff</th>\n",
       "      <th>Light Mulatto</th>\n",
       "      <th>Light Negro</th>\n",
       "      <th>Mulatto</th>\n",
       "      <th>Mulatto, Griff</th>\n",
       "      <th>Negro</th>\n",
       "      <th>Quarteroon</th>\n",
       "      <th>Yellow</th>\n",
       "      <th>Yellow, Griff</th>\n",
       "    </tr>\n",
       "  </thead>\n",
       "  <tbody>\n",
       "    <tr>\n",
       "      <th>0</th>\n",
       "      <td>1.0</td>\n",
       "      <td>40.0</td>\n",
       "      <td>650.00</td>\n",
       "      <td>1.0</td>\n",
       "      <td>0.0</td>\n",
       "      <td>0.0</td>\n",
       "      <td>0.0</td>\n",
       "      <td>0.0</td>\n",
       "      <td>0.0</td>\n",
       "      <td>0.0</td>\n",
       "      <td>...</td>\n",
       "      <td>0</td>\n",
       "      <td>0</td>\n",
       "      <td>0</td>\n",
       "      <td>0</td>\n",
       "      <td>0</td>\n",
       "      <td>0</td>\n",
       "      <td>0</td>\n",
       "      <td>0</td>\n",
       "      <td>0</td>\n",
       "      <td>0</td>\n",
       "    </tr>\n",
       "    <tr>\n",
       "      <th>1</th>\n",
       "      <td>2.0</td>\n",
       "      <td>44.0</td>\n",
       "      <td>550.00</td>\n",
       "      <td>1.0</td>\n",
       "      <td>0.0</td>\n",
       "      <td>0.0</td>\n",
       "      <td>0.0</td>\n",
       "      <td>0.0</td>\n",
       "      <td>0.0</td>\n",
       "      <td>0.0</td>\n",
       "      <td>...</td>\n",
       "      <td>0</td>\n",
       "      <td>0</td>\n",
       "      <td>0</td>\n",
       "      <td>0</td>\n",
       "      <td>0</td>\n",
       "      <td>0</td>\n",
       "      <td>1</td>\n",
       "      <td>0</td>\n",
       "      <td>0</td>\n",
       "      <td>0</td>\n",
       "    </tr>\n",
       "    <tr>\n",
       "      <th>2</th>\n",
       "      <td>3.0</td>\n",
       "      <td>24.0</td>\n",
       "      <td>1000.00</td>\n",
       "      <td>1.0</td>\n",
       "      <td>0.0</td>\n",
       "      <td>0.0</td>\n",
       "      <td>0.0</td>\n",
       "      <td>0.0</td>\n",
       "      <td>0.0</td>\n",
       "      <td>0.0</td>\n",
       "      <td>...</td>\n",
       "      <td>0</td>\n",
       "      <td>0</td>\n",
       "      <td>0</td>\n",
       "      <td>0</td>\n",
       "      <td>0</td>\n",
       "      <td>0</td>\n",
       "      <td>1</td>\n",
       "      <td>0</td>\n",
       "      <td>0</td>\n",
       "      <td>0</td>\n",
       "    </tr>\n",
       "    <tr>\n",
       "      <th>3</th>\n",
       "      <td>4.0</td>\n",
       "      <td>23.0</td>\n",
       "      <td>1400.00</td>\n",
       "      <td>1.0</td>\n",
       "      <td>0.0</td>\n",
       "      <td>0.0</td>\n",
       "      <td>0.0</td>\n",
       "      <td>0.0</td>\n",
       "      <td>0.0</td>\n",
       "      <td>0.0</td>\n",
       "      <td>...</td>\n",
       "      <td>0</td>\n",
       "      <td>0</td>\n",
       "      <td>0</td>\n",
       "      <td>0</td>\n",
       "      <td>0</td>\n",
       "      <td>0</td>\n",
       "      <td>1</td>\n",
       "      <td>0</td>\n",
       "      <td>0</td>\n",
       "      <td>0</td>\n",
       "    </tr>\n",
       "    <tr>\n",
       "      <th>4</th>\n",
       "      <td>5.0</td>\n",
       "      <td>12.0</td>\n",
       "      <td>700.00</td>\n",
       "      <td>1.0</td>\n",
       "      <td>0.0</td>\n",
       "      <td>0.0</td>\n",
       "      <td>0.0</td>\n",
       "      <td>0.0</td>\n",
       "      <td>0.0</td>\n",
       "      <td>0.0</td>\n",
       "      <td>...</td>\n",
       "      <td>0</td>\n",
       "      <td>0</td>\n",
       "      <td>0</td>\n",
       "      <td>0</td>\n",
       "      <td>0</td>\n",
       "      <td>0</td>\n",
       "      <td>1</td>\n",
       "      <td>0</td>\n",
       "      <td>0</td>\n",
       "      <td>0</td>\n",
       "    </tr>\n",
       "    <tr>\n",
       "      <th>...</th>\n",
       "      <td>...</td>\n",
       "      <td>...</td>\n",
       "      <td>...</td>\n",
       "      <td>...</td>\n",
       "      <td>...</td>\n",
       "      <td>...</td>\n",
       "      <td>...</td>\n",
       "      <td>...</td>\n",
       "      <td>...</td>\n",
       "      <td>...</td>\n",
       "      <td>...</td>\n",
       "      <td>...</td>\n",
       "      <td>...</td>\n",
       "      <td>...</td>\n",
       "      <td>...</td>\n",
       "      <td>...</td>\n",
       "      <td>...</td>\n",
       "      <td>...</td>\n",
       "      <td>...</td>\n",
       "      <td>...</td>\n",
       "      <td>...</td>\n",
       "    </tr>\n",
       "    <tr>\n",
       "      <th>14708</th>\n",
       "      <td>15321.0</td>\n",
       "      <td>25.0</td>\n",
       "      <td>1100.00</td>\n",
       "      <td>2.0</td>\n",
       "      <td>1.0</td>\n",
       "      <td>8.0</td>\n",
       "      <td>0.0</td>\n",
       "      <td>0.0</td>\n",
       "      <td>0.0</td>\n",
       "      <td>0.0</td>\n",
       "      <td>...</td>\n",
       "      <td>0</td>\n",
       "      <td>0</td>\n",
       "      <td>0</td>\n",
       "      <td>0</td>\n",
       "      <td>1</td>\n",
       "      <td>0</td>\n",
       "      <td>0</td>\n",
       "      <td>0</td>\n",
       "      <td>0</td>\n",
       "      <td>0</td>\n",
       "    </tr>\n",
       "    <tr>\n",
       "      <th>14709</th>\n",
       "      <td>15370.0</td>\n",
       "      <td>24.0</td>\n",
       "      <td>533.33</td>\n",
       "      <td>1.0</td>\n",
       "      <td>0.0</td>\n",
       "      <td>0.0</td>\n",
       "      <td>0.0</td>\n",
       "      <td>0.0</td>\n",
       "      <td>0.0</td>\n",
       "      <td>0.0</td>\n",
       "      <td>...</td>\n",
       "      <td>0</td>\n",
       "      <td>0</td>\n",
       "      <td>0</td>\n",
       "      <td>0</td>\n",
       "      <td>0</td>\n",
       "      <td>0</td>\n",
       "      <td>1</td>\n",
       "      <td>0</td>\n",
       "      <td>0</td>\n",
       "      <td>0</td>\n",
       "    </tr>\n",
       "    <tr>\n",
       "      <th>14710</th>\n",
       "      <td>15371.0</td>\n",
       "      <td>1.0</td>\n",
       "      <td>533.33</td>\n",
       "      <td>1.0</td>\n",
       "      <td>0.0</td>\n",
       "      <td>0.0</td>\n",
       "      <td>0.0</td>\n",
       "      <td>0.0</td>\n",
       "      <td>0.0</td>\n",
       "      <td>0.0</td>\n",
       "      <td>...</td>\n",
       "      <td>0</td>\n",
       "      <td>0</td>\n",
       "      <td>0</td>\n",
       "      <td>0</td>\n",
       "      <td>0</td>\n",
       "      <td>0</td>\n",
       "      <td>1</td>\n",
       "      <td>0</td>\n",
       "      <td>0</td>\n",
       "      <td>0</td>\n",
       "    </tr>\n",
       "    <tr>\n",
       "      <th>14711</th>\n",
       "      <td>15372.0</td>\n",
       "      <td>46.0</td>\n",
       "      <td>533.33</td>\n",
       "      <td>1.0</td>\n",
       "      <td>0.0</td>\n",
       "      <td>0.0</td>\n",
       "      <td>0.0</td>\n",
       "      <td>0.0</td>\n",
       "      <td>0.0</td>\n",
       "      <td>0.0</td>\n",
       "      <td>...</td>\n",
       "      <td>0</td>\n",
       "      <td>0</td>\n",
       "      <td>0</td>\n",
       "      <td>0</td>\n",
       "      <td>0</td>\n",
       "      <td>0</td>\n",
       "      <td>1</td>\n",
       "      <td>0</td>\n",
       "      <td>0</td>\n",
       "      <td>0</td>\n",
       "    </tr>\n",
       "    <tr>\n",
       "      <th>14712</th>\n",
       "      <td>15377.0</td>\n",
       "      <td>42.0</td>\n",
       "      <td>1600.00</td>\n",
       "      <td>1.0</td>\n",
       "      <td>0.0</td>\n",
       "      <td>0.0</td>\n",
       "      <td>0.0</td>\n",
       "      <td>0.0</td>\n",
       "      <td>0.0</td>\n",
       "      <td>0.0</td>\n",
       "      <td>...</td>\n",
       "      <td>0</td>\n",
       "      <td>0</td>\n",
       "      <td>0</td>\n",
       "      <td>0</td>\n",
       "      <td>0</td>\n",
       "      <td>0</td>\n",
       "      <td>1</td>\n",
       "      <td>0</td>\n",
       "      <td>0</td>\n",
       "      <td>0</td>\n",
       "    </tr>\n",
       "  </tbody>\n",
       "</table>\n",
       "<p>14713 rows × 62 columns</p>\n",
       "</div>"
      ],
      "text/plain": [
       "       ID number   Age    Price  Slaves Total  Children Total  Age Child 1  \\\n",
       "0            1.0  40.0   650.00           1.0             0.0          0.0   \n",
       "1            2.0  44.0   550.00           1.0             0.0          0.0   \n",
       "2            3.0  24.0  1000.00           1.0             0.0          0.0   \n",
       "3            4.0  23.0  1400.00           1.0             0.0          0.0   \n",
       "4            5.0  12.0   700.00           1.0             0.0          0.0   \n",
       "...          ...   ...      ...           ...             ...          ...   \n",
       "14708    15321.0  25.0  1100.00           2.0             1.0          8.0   \n",
       "14709    15370.0  24.0   533.33           1.0             0.0          0.0   \n",
       "14710    15371.0   1.0   533.33           1.0             0.0          0.0   \n",
       "14711    15372.0  46.0   533.33           1.0             0.0          0.0   \n",
       "14712    15377.0  42.0  1600.00           1.0             0.0          0.0   \n",
       "\n",
       "       Age Child 2  Age Child 3  Age Child 4  Age Child 5  ...  Light Brown  \\\n",
       "0              0.0          0.0          0.0          0.0  ...            0   \n",
       "1              0.0          0.0          0.0          0.0  ...            0   \n",
       "2              0.0          0.0          0.0          0.0  ...            0   \n",
       "3              0.0          0.0          0.0          0.0  ...            0   \n",
       "4              0.0          0.0          0.0          0.0  ...            0   \n",
       "...            ...          ...          ...          ...  ...          ...   \n",
       "14708          0.0          0.0          0.0          0.0  ...            0   \n",
       "14709          0.0          0.0          0.0          0.0  ...            0   \n",
       "14710          0.0          0.0          0.0          0.0  ...            0   \n",
       "14711          0.0          0.0          0.0          0.0  ...            0   \n",
       "14712          0.0          0.0          0.0          0.0  ...            0   \n",
       "\n",
       "       Light Griff  Light Mulatto  Light Negro  Mulatto  Mulatto, Griff  \\\n",
       "0                0              0            0        0               0   \n",
       "1                0              0            0        0               0   \n",
       "2                0              0            0        0               0   \n",
       "3                0              0            0        0               0   \n",
       "4                0              0            0        0               0   \n",
       "...            ...            ...          ...      ...             ...   \n",
       "14708            0              0            0        1               0   \n",
       "14709            0              0            0        0               0   \n",
       "14710            0              0            0        0               0   \n",
       "14711            0              0            0        0               0   \n",
       "14712            0              0            0        0               0   \n",
       "\n",
       "       Negro  Quarteroon  Yellow  Yellow, Griff  \n",
       "0          0           0       0              0  \n",
       "1          1           0       0              0  \n",
       "2          1           0       0              0  \n",
       "3          1           0       0              0  \n",
       "4          1           0       0              0  \n",
       "...      ...         ...     ...            ...  \n",
       "14708      0           0       0              0  \n",
       "14709      1           0       0              0  \n",
       "14710      1           0       0              0  \n",
       "14711      1           0       0              0  \n",
       "14712      1           0       0              0  \n",
       "\n",
       "[14713 rows x 62 columns]"
      ]
     },
     "execution_count": 3,
     "metadata": {},
     "output_type": "execute_result"
    }
   ],
   "source": [
    "data"
   ]
  },
  {
   "cell_type": "code",
   "execution_count": 4,
   "metadata": {},
   "outputs": [
    {
     "name": "stdout",
     "output_type": "stream",
     "text": [
      "<class 'pandas.core.frame.DataFrame'>\n",
      "Int64Index: 14713 entries, 0 to 14712\n",
      "Data columns (total 62 columns):\n",
      " #   Column              Non-Null Count  Dtype  \n",
      "---  ------              --------------  -----  \n",
      " 0   ID number           14713 non-null  float64\n",
      " 1   Age                 14713 non-null  float64\n",
      " 2   Price               14713 non-null  float64\n",
      " 3   Slaves Total        14713 non-null  float64\n",
      " 4   Children Total      14713 non-null  float64\n",
      " 5   Age Child 1         14713 non-null  float64\n",
      " 6   Age Child 2         14713 non-null  float64\n",
      " 7   Age Child 3         14713 non-null  float64\n",
      " 8   Age Child 4         14713 non-null  float64\n",
      " 9   Age Child 5         14713 non-null  float64\n",
      " 10  Age Child 6         14713 non-null  float64\n",
      " 11  Age Child 7         14713 non-null  float64\n",
      " 12  Age Child 8         14713 non-null  float64\n",
      " 13  F                   14713 non-null  uint8  \n",
      " 14  M                   14713 non-null  uint8  \n",
      " 15  Sex Child 1_F       14713 non-null  uint8  \n",
      " 16  Sex Child 1_M       14713 non-null  uint8  \n",
      " 17  Sex Child 2_F       14713 non-null  uint8  \n",
      " 18  Sex Child 2_M       14713 non-null  uint8  \n",
      " 19  Sex Child 3_F       14713 non-null  uint8  \n",
      " 20  Sex Child 3_M       14713 non-null  uint8  \n",
      " 21  Sex Child 4_F       14713 non-null  uint8  \n",
      " 22  Sex Child 4_M       14713 non-null  uint8  \n",
      " 23  Sex Child 5_F       14713 non-null  uint8  \n",
      " 24  Sex Child 5_M       14713 non-null  uint8  \n",
      " 25  Sex Child 6_F       14713 non-null  uint8  \n",
      " 26  Sex Child 6_M       14713 non-null  uint8  \n",
      " 27  Sex Child 7_F       14713 non-null  uint8  \n",
      " 28  .                   14713 non-null  uint8  \n",
      " 29  Albino, Negro       14713 non-null  uint8  \n",
      " 30  Black               14713 non-null  uint8  \n",
      " 31  Black Negro         14713 non-null  uint8  \n",
      " 32  Bright Color        14713 non-null  uint8  \n",
      " 33  Bright Mulatto      14713 non-null  uint8  \n",
      " 34  Brown               14713 non-null  uint8  \n",
      " 35  Chestnut            14713 non-null  uint8  \n",
      " 36  Colored             14713 non-null  uint8  \n",
      " 37  Copper              14713 non-null  uint8  \n",
      " 38  Creole              14713 non-null  uint8  \n",
      " 39  Creole Mulatto      14713 non-null  uint8  \n",
      " 40  Creole Negro        14713 non-null  uint8  \n",
      " 41  Dark                14713 non-null  uint8  \n",
      " 42  Dark Copper         14713 non-null  uint8  \n",
      " 43  Dark Griff          14713 non-null  uint8  \n",
      " 44  Dark Mulatto        14713 non-null  uint8  \n",
      " 45  Dark Negro          14713 non-null  uint8  \n",
      " 46  Dark Orange, Griff  14713 non-null  uint8  \n",
      " 47  Fair Mulatto        14713 non-null  uint8  \n",
      " 48  Griff               14713 non-null  uint8  \n",
      " 49  Griff Creole        14713 non-null  uint8  \n",
      " 50  Light               14713 non-null  uint8  \n",
      " 51  Light Black         14713 non-null  uint8  \n",
      " 52  Light Brown         14713 non-null  uint8  \n",
      " 53  Light Griff         14713 non-null  uint8  \n",
      " 54  Light Mulatto       14713 non-null  uint8  \n",
      " 55  Light Negro         14713 non-null  uint8  \n",
      " 56  Mulatto             14713 non-null  uint8  \n",
      " 57  Mulatto, Griff      14713 non-null  uint8  \n",
      " 58  Negro               14713 non-null  uint8  \n",
      " 59  Quarteroon          14713 non-null  uint8  \n",
      " 60  Yellow              14713 non-null  uint8  \n",
      " 61  Yellow, Griff       14713 non-null  uint8  \n",
      "dtypes: float64(13), uint8(49)\n",
      "memory usage: 2.3 MB\n"
     ]
    }
   ],
   "source": [
    "data.info()"
   ]
  },
  {
   "cell_type": "code",
   "execution_count": 5,
   "metadata": {},
   "outputs": [
    {
     "data": {
      "text/plain": [
       "Index(['ID number', 'Age', 'Price', 'Slaves Total', 'Children Total',\n",
       "       'Age Child 1', 'Age Child 2', 'Age Child 3', 'Age Child 4',\n",
       "       'Age Child 5', 'Age Child 6', 'Age Child 7', 'Age Child 8', 'F', 'M',\n",
       "       'Sex Child 1_F', 'Sex Child 1_M', 'Sex Child 2_F', 'Sex Child 2_M',\n",
       "       'Sex Child 3_F', 'Sex Child 3_M', 'Sex Child 4_F', 'Sex Child 4_M',\n",
       "       'Sex Child 5_F', 'Sex Child 5_M', 'Sex Child 6_F', 'Sex Child 6_M',\n",
       "       'Sex Child 7_F', '.', 'Albino, Negro', 'Black', 'Black Negro',\n",
       "       'Bright Color', 'Bright Mulatto', 'Brown', 'Chestnut', 'Colored',\n",
       "       'Copper', 'Creole', 'Creole Mulatto', 'Creole Negro', 'Dark',\n",
       "       'Dark Copper', 'Dark Griff', 'Dark Mulatto', 'Dark Negro',\n",
       "       'Dark Orange, Griff', 'Fair Mulatto', 'Griff', 'Griff Creole', 'Light',\n",
       "       'Light Black', 'Light Brown', 'Light Griff', 'Light Mulatto',\n",
       "       'Light Negro', 'Mulatto', 'Mulatto, Griff', 'Negro', 'Quarteroon',\n",
       "       'Yellow', 'Yellow, Griff'],\n",
       "      dtype='object')"
      ]
     },
     "execution_count": 5,
     "metadata": {},
     "output_type": "execute_result"
    }
   ],
   "source": [
    "data.columns"
   ]
  },
  {
   "cell_type": "code",
   "execution_count": 6,
   "metadata": {},
   "outputs": [],
   "source": [
    "cor_data = data[['Age', 'Price', 'Slaves Total', 'Children Total',\n",
    "       'Age Child 1', 'Age Child 2', 'F', 'M',\n",
    "       'Sex Child 1_F', 'Sex Child 1_M', 'Sex Child 2_F', 'Sex Child 2_M',\n",
    "       'Black Negro',]]"
   ]
  },
  {
   "cell_type": "code",
   "execution_count": 7,
   "metadata": {},
   "outputs": [],
   "source": [
    "X = data.drop(columns=['Price', 'ID number'])"
   ]
  },
  {
   "cell_type": "code",
   "execution_count": 8,
   "metadata": {},
   "outputs": [],
   "source": [
    "y = data['Price']"
   ]
  },
  {
   "cell_type": "code",
   "execution_count": 9,
   "metadata": {},
   "outputs": [
    {
     "data": {
      "text/plain": [
       "<matplotlib.axes._subplots.AxesSubplot at 0x2543a844c40>"
      ]
     },
     "execution_count": 9,
     "metadata": {},
     "output_type": "execute_result"
    },
    {
     "data": {
      "image/png": "[encoded data removed]",
      "text/plain": [
       "<Figure size 432x288 with 2 Axes>"
      ]
     },
     "metadata": {
      "needs_background": "light"
     },
     "output_type": "display_data"
    }
   ],
   "source": [
    "sns.heatmap(cor_data.corr())"
   ]
  },
  {
   "cell_type": "code",
   "execution_count": 10,
   "metadata": {},
   "outputs": [],
   "source": [
    "X_train, X_test, y_train, y_test = \\\n",
    "train_test_split(X, y, test_size=0.33, random_state=111)"
   ]
  },
  {
   "cell_type": "code",
   "execution_count": 11,
   "metadata": {},
   "outputs": [],
   "source": [
    "lm = LinearRegression()"
   ]
  },
  {
   "cell_type": "code",
   "execution_count": 12,
   "metadata": {},
   "outputs": [],
   "source": [
    "reg = lm.fit(X_train,y_train)"
   ]
  },
  {
   "cell_type": "code",
   "execution_count": 13,
   "metadata": {},
   "outputs": [],
   "source": [
    "predictions = lm.predict(X_test)"
   ]
  },
  {
   "cell_type": "code",
   "execution_count": 14,
   "metadata": {},
   "outputs": [],
   "source": [
    "guesses = pd.Series(data=predictions, name='Guesses')"
   ]
  },
  {
   "cell_type": "code",
   "execution_count": 15,
   "metadata": {},
   "outputs": [],
   "source": [
    "res = pd.concat([y_test.reset_index(), guesses], axis=1)[['Price', 'Guesses']]"
   ]
  },
  {
   "cell_type": "code",
   "execution_count": 16,
   "metadata": {},
   "outputs": [
    {
     "data": {
      "text/html": [
       "<div>\n",
       "<style scoped>\n",
       "    .dataframe tbody tr th:only-of-type {\n",
       "        vertical-align: middle;\n",
       "    }\n",
       "\n",
       "    .dataframe tbody tr th {\n",
       "        vertical-align: top;\n",
       "    }\n",
       "\n",
       "    .dataframe thead th {\n",
       "        text-align: right;\n",
       "    }\n",
       "</style>\n",
       "<table border=\"1\" class=\"dataframe\">\n",
       "  <thead>\n",
       "    <tr style=\"text-align: right;\">\n",
       "      <th></th>\n",
       "      <th>Price</th>\n",
       "      <th>Guesses</th>\n",
       "    </tr>\n",
       "  </thead>\n",
       "  <tbody>\n",
       "    <tr>\n",
       "      <th>0</th>\n",
       "      <td>500.0</td>\n",
       "      <td>1092.444659</td>\n",
       "    </tr>\n",
       "    <tr>\n",
       "      <th>1</th>\n",
       "      <td>1300.0</td>\n",
       "      <td>1027.538052</td>\n",
       "    </tr>\n",
       "    <tr>\n",
       "      <th>2</th>\n",
       "      <td>1000.0</td>\n",
       "      <td>946.232689</td>\n",
       "    </tr>\n",
       "    <tr>\n",
       "      <th>3</th>\n",
       "      <td>1200.0</td>\n",
       "      <td>1126.298662</td>\n",
       "    </tr>\n",
       "    <tr>\n",
       "      <th>4</th>\n",
       "      <td>1300.0</td>\n",
       "      <td>1133.136788</td>\n",
       "    </tr>\n",
       "  </tbody>\n",
       "</table>\n",
       "</div>"
      ],
      "text/plain": [
       "    Price      Guesses\n",
       "0   500.0  1092.444659\n",
       "1  1300.0  1027.538052\n",
       "2  1000.0   946.232689\n",
       "3  1200.0  1126.298662\n",
       "4  1300.0  1133.136788"
      ]
     },
     "execution_count": 16,
     "metadata": {},
     "output_type": "execute_result"
    }
   ],
   "source": [
    "res.head()"
   ]
  },
  {
   "cell_type": "code",
   "execution_count": 17,
   "metadata": {},
   "outputs": [
    {
     "data": {
      "text/plain": [
       "0.18295791809143147"
      ]
     },
     "execution_count": 17,
     "metadata": {},
     "output_type": "execute_result"
    }
   ],
   "source": [
    "reg.score(X_test, y_test)"
   ]
  },
  {
   "cell_type": "code",
   "execution_count": 18,
   "metadata": {},
   "outputs": [
    {
     "data": {
      "text/plain": [
       "Text(0, 0.5, 'Predicted Y')"
      ]
     },
     "execution_count": 18,
     "metadata": {},
     "output_type": "execute_result"
    },
    {
     "data": {
      "image/png": "[encoded data removed]",
      "text/plain": [
       "<Figure size 432x288 with 1 Axes>"
      ]
     },
     "metadata": {
      "needs_background": "light"
     },
     "output_type": "display_data"
    }
   ],
   "source": [
    "plt.scatter(x = y_test, y = predictions)\n",
    "plt.xlabel('Y Test')\n",
    "plt.ylabel('Predicted Y')"
   ]
  },
  {
   "cell_type": "code",
   "execution_count": 19,
   "metadata": {},
   "outputs": [
    {
     "name": "stdout",
     "output_type": "stream",
     "text": [
      "MAE: 337.9518878160941   337.9518878160938\n",
      "MSE: 206296.83952080202   206296.83952080252\n",
      "RMSE: 454.1991188023178   454.19911880231837\n"
     ]
    }
   ],
   "source": [
    "from sklearn import metrics\n",
    "from math import sqrt\n",
    "\n",
    "print('MAE:', \n",
    "      metrics.mean_absolute_error(y_test, predictions), ' ',\n",
    "      (1./len(y_test))*(sum(abs(y_test-predictions))))\n",
    "print('MSE:', \n",
    "      metrics.mean_squared_error(y_test, predictions), ' ',\n",
    "      (1./len(y_test))*(sum((y_test-predictions)**2)))\n",
    "print('RMSE:', \n",
    "      np.sqrt(metrics.mean_squared_error(y_test, predictions)), ' ',\n",
    "      sqrt((1./len(y_test))*(sum((y_test-predictions)**2))))"
   ]
  },
  {
   "cell_type": "code",
   "execution_count": 20,
   "metadata": {},
   "outputs": [
    {
     "data": {
      "text/plain": [
       "<matplotlib.axes._subplots.AxesSubplot at 0x2543b0a6460>"
      ]
     },
     "execution_count": 20,
     "metadata": {},
     "output_type": "execute_result"
    },
    {
     "data": {
      "image/png": "[encoded data removed]",
      "text/plain": [
       "<Figure size 432x288 with 1 Axes>"
      ]
     },
     "metadata": {
      "needs_background": "light"
     },
     "output_type": "display_data"
    }
   ],
   "source": [
    "sns.distplot((y_test-predictions), bins = 50)"
   ]
  },
  {
   "cell_type": "code",
   "execution_count": 21,
   "metadata": {},
   "outputs": [
    {
     "data": {
      "text/plain": [
       "<seaborn.axisgrid.FacetGrid at 0x2543b1714f0>"
      ]
     },
     "execution_count": 21,
     "metadata": {},
     "output_type": "execute_result"
    },
    {
     "data": {
      "image/png": "[encoded data removed]",
      "text/plain": [
       "<Figure size 360x360 with 1 Axes>"
      ]
     },
     "metadata": {
      "needs_background": "light"
     },
     "output_type": "display_data"
    }
   ],
   "source": [
    "sns.lmplot(x = 'Price', y = 'Age Child 1', data = data)"
   ]
  },
  {
   "cell_type": "code",
   "execution_count": 22,
   "metadata": {},
   "outputs": [
    {
     "data": {
      "text/plain": [
       "<seaborn.axisgrid.FacetGrid at 0x2543b1f83d0>"
      ]
     },
     "execution_count": 22,
     "metadata": {},
     "output_type": "execute_result"
    },
    {
     "data": {
      "image/png": "[encoded data removed]",
      "text/plain": [
       "<Figure size 360x360 with 1 Axes>"
      ]
     },
     "metadata": {
      "needs_background": "light"
     },
     "output_type": "display_data"
    }
   ],
   "source": [
    "sns.lmplot(x = 'Price', y = 'Slaves Total', data = data)"
   ]
  },
  {
   "cell_type": "code",
   "execution_count": 23,
   "metadata": {},
   "outputs": [
    {
     "data": {
      "text/plain": [
       "<seaborn.axisgrid.FacetGrid at 0x2543b027220>"
      ]
     },
     "execution_count": 23,
     "metadata": {},
     "output_type": "execute_result"
    },
    {
     "data": {
      "image/png": "[encoded data removed]",
      "text/plain": [
       "<Figure size 360x360 with 1 Axes>"
      ]
     },
     "metadata": {
      "needs_background": "light"
     },
     "output_type": "display_data"
    }
   ],
   "source": [
    "sns.lmplot(x = 'Price', y = 'Age', data = data)"
   ]
  },
  {
   "cell_type": "code",
   "execution_count": 24,
   "metadata": {},
   "outputs": [
    {
     "data": {
      "text/html": [
       "<div>\n",
       "<style scoped>\n",
       "    .dataframe tbody tr th:only-of-type {\n",
       "        vertical-align: middle;\n",
       "    }\n",
       "\n",
       "    .dataframe tbody tr th {\n",
       "        vertical-align: top;\n",
       "    }\n",
       "\n",
       "    .dataframe thead th {\n",
       "        text-align: right;\n",
       "    }\n",
       "</style>\n",
       "<table border=\"1\" class=\"dataframe\">\n",
       "  <thead>\n",
       "    <tr style=\"text-align: right;\">\n",
       "      <th></th>\n",
       "      <th>Coefficient</th>\n",
       "    </tr>\n",
       "  </thead>\n",
       "  <tbody>\n",
       "    <tr>\n",
       "      <th>Age</th>\n",
       "      <td>-6.838126</td>\n",
       "    </tr>\n",
       "    <tr>\n",
       "      <th>Slaves Total</th>\n",
       "      <td>67.443268</td>\n",
       "    </tr>\n",
       "    <tr>\n",
       "      <th>Children Total</th>\n",
       "      <td>67.443268</td>\n",
       "    </tr>\n",
       "    <tr>\n",
       "      <th>Age Child 1</th>\n",
       "      <td>28.055680</td>\n",
       "    </tr>\n",
       "    <tr>\n",
       "      <th>Age Child 2</th>\n",
       "      <td>57.640207</td>\n",
       "    </tr>\n",
       "  </tbody>\n",
       "</table>\n",
       "</div>"
      ],
      "text/plain": [
       "                Coefficient\n",
       "Age               -6.838126\n",
       "Slaves Total      67.443268\n",
       "Children Total    67.443268\n",
       "Age Child 1       28.055680\n",
       "Age Child 2       57.640207"
      ]
     },
     "execution_count": 24,
     "metadata": {},
     "output_type": "execute_result"
    }
   ],
   "source": [
    "df = pd.DataFrame( data = lm.coef_, columns = ['Coefficient'] ,index = X_train.columns)\n",
    "df.head()"
   ]
  },
  {
   "cell_type": "markdown",
   "metadata": {},
   "source": [
    "### Conclusion"
   ]
  },
  {
   "cell_type": "markdown",
   "metadata": {},
   "source": [
    "**For a unit increase in \"Age\", there is a slave price decrease of 6.8 USD. \n",
    "Similarly, a unit increase in \"Age Child 1\" results in an increase of 28 USD of price. \n",
    "\"Slaves Total\", \"Children Total\" and \"Age Child 2\" have the strongest effect on the slave price.**"
   ]
  },
  {
   "cell_type": "code",
   "execution_count": null,
   "metadata": {},
   "outputs": [],
   "source": []
  }
 ],
 "metadata": {
  "kernelspec": {
   "display_name": "Python 3",
   "language": "python",
   "name": "python3"
  },
  "language_info": {
   "codemirror_mode": {
    "name": "ipython",
    "version": 3
   },
   "file_extension": ".py",
   "mimetype": "text/x-python",
   "name": "python",
   "nbconvert_exporter": "python",
   "pygments_lexer": "ipython3",
   "version": "3.8.3"
  }
 },
 "nbformat": 4,
 "nbformat_minor": 4
}
