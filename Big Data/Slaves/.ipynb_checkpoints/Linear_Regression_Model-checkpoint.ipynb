{
 "cells": [
  {
   "cell_type": "code",
   "execution_count": 1,
   "metadata": {},
   "outputs": [],
   "source": [
    "import pickle\n",
    "import numpy as np\n",
    "import pandas as pd\n",
    "import seaborn as sns\n",
    "import matplotlib.pyplot as plt\n",
    "from sklearn.model_selection import train_test_split\n",
    "from sklearn.linear_model import LinearRegression"
   ]
  },
  {
   "cell_type": "code",
   "execution_count": 2,
   "metadata": {},
   "outputs": [],
   "source": [
    "with open('cleaned_data.pkl', 'rb') as pickle_in:\n",
    "    data = pickle.load(pickle_in)"
   ]
  },
  {
   "cell_type": "code",
   "execution_count": 3,
   "metadata": {},
   "outputs": [
    {
     "data": {
      "text/html": [
       "<div>\n",
       "<style scoped>\n",
       "    .dataframe tbody tr th:only-of-type {\n",
       "        vertical-align: middle;\n",
       "    }\n",
       "\n",
       "    .dataframe tbody tr th {\n",
       "        vertical-align: top;\n",
       "    }\n",
       "\n",
       "    .dataframe thead th {\n",
       "        text-align: right;\n",
       "    }\n",
       "</style>\n",
       "<table border=\"1\" class=\"dataframe\">\n",
       "  <thead>\n",
       "    <tr style=\"text-align: right;\">\n",
       "      <th></th>\n",
       "      <th>ID number</th>\n",
       "      <th>Age</th>\n",
       "      <th>Number of Total Slaves</th>\n",
       "      <th>Number of Adult Slaves</th>\n",
       "      <th>Number of Child Slaves</th>\n",
       "      <th>Price</th>\n",
       "      <th>Age Child 1</th>\n",
       "      <th>Age Child 2</th>\n",
       "      <th>Age Child 3</th>\n",
       "      <th>Age Child 4</th>\n",
       "      <th>...</th>\n",
       "      <th>Light Brown</th>\n",
       "      <th>Light Griff</th>\n",
       "      <th>Light Mulatto</th>\n",
       "      <th>Light Negro</th>\n",
       "      <th>Mulatto</th>\n",
       "      <th>Mulatto, Griff</th>\n",
       "      <th>Negro</th>\n",
       "      <th>Quarteroon</th>\n",
       "      <th>Yellow</th>\n",
       "      <th>Yellow, Griff</th>\n",
       "    </tr>\n",
       "  </thead>\n",
       "  <tbody>\n",
       "    <tr>\n",
       "      <th>0</th>\n",
       "      <td>1.0</td>\n",
       "      <td>40.0</td>\n",
       "      <td>1.0</td>\n",
       "      <td>1.0</td>\n",
       "      <td>0.0</td>\n",
       "      <td>650.00</td>\n",
       "      <td>0.0</td>\n",
       "      <td>0.0</td>\n",
       "      <td>0.0</td>\n",
       "      <td>0.0</td>\n",
       "      <td>...</td>\n",
       "      <td>0</td>\n",
       "      <td>0</td>\n",
       "      <td>0</td>\n",
       "      <td>0</td>\n",
       "      <td>0</td>\n",
       "      <td>0</td>\n",
       "      <td>0</td>\n",
       "      <td>0</td>\n",
       "      <td>0</td>\n",
       "      <td>0</td>\n",
       "    </tr>\n",
       "    <tr>\n",
       "      <th>1</th>\n",
       "      <td>2.0</td>\n",
       "      <td>44.0</td>\n",
       "      <td>1.0</td>\n",
       "      <td>1.0</td>\n",
       "      <td>0.0</td>\n",
       "      <td>550.00</td>\n",
       "      <td>0.0</td>\n",
       "      <td>0.0</td>\n",
       "      <td>0.0</td>\n",
       "      <td>0.0</td>\n",
       "      <td>...</td>\n",
       "      <td>0</td>\n",
       "      <td>0</td>\n",
       "      <td>0</td>\n",
       "      <td>0</td>\n",
       "      <td>0</td>\n",
       "      <td>0</td>\n",
       "      <td>1</td>\n",
       "      <td>0</td>\n",
       "      <td>0</td>\n",
       "      <td>0</td>\n",
       "    </tr>\n",
       "    <tr>\n",
       "      <th>2</th>\n",
       "      <td>3.0</td>\n",
       "      <td>24.0</td>\n",
       "      <td>1.0</td>\n",
       "      <td>1.0</td>\n",
       "      <td>0.0</td>\n",
       "      <td>1000.00</td>\n",
       "      <td>0.0</td>\n",
       "      <td>0.0</td>\n",
       "      <td>0.0</td>\n",
       "      <td>0.0</td>\n",
       "      <td>...</td>\n",
       "      <td>0</td>\n",
       "      <td>0</td>\n",
       "      <td>0</td>\n",
       "      <td>0</td>\n",
       "      <td>0</td>\n",
       "      <td>0</td>\n",
       "      <td>1</td>\n",
       "      <td>0</td>\n",
       "      <td>0</td>\n",
       "      <td>0</td>\n",
       "    </tr>\n",
       "    <tr>\n",
       "      <th>3</th>\n",
       "      <td>4.0</td>\n",
       "      <td>23.0</td>\n",
       "      <td>1.0</td>\n",
       "      <td>1.0</td>\n",
       "      <td>0.0</td>\n",
       "      <td>1400.00</td>\n",
       "      <td>0.0</td>\n",
       "      <td>0.0</td>\n",
       "      <td>0.0</td>\n",
       "      <td>0.0</td>\n",
       "      <td>...</td>\n",
       "      <td>0</td>\n",
       "      <td>0</td>\n",
       "      <td>0</td>\n",
       "      <td>0</td>\n",
       "      <td>0</td>\n",
       "      <td>0</td>\n",
       "      <td>1</td>\n",
       "      <td>0</td>\n",
       "      <td>0</td>\n",
       "      <td>0</td>\n",
       "    </tr>\n",
       "    <tr>\n",
       "      <th>4</th>\n",
       "      <td>5.0</td>\n",
       "      <td>12.0</td>\n",
       "      <td>1.0</td>\n",
       "      <td>1.0</td>\n",
       "      <td>0.0</td>\n",
       "      <td>700.00</td>\n",
       "      <td>0.0</td>\n",
       "      <td>0.0</td>\n",
       "      <td>0.0</td>\n",
       "      <td>0.0</td>\n",
       "      <td>...</td>\n",
       "      <td>0</td>\n",
       "      <td>0</td>\n",
       "      <td>0</td>\n",
       "      <td>0</td>\n",
       "      <td>0</td>\n",
       "      <td>0</td>\n",
       "      <td>1</td>\n",
       "      <td>0</td>\n",
       "      <td>0</td>\n",
       "      <td>0</td>\n",
       "    </tr>\n",
       "    <tr>\n",
       "      <th>...</th>\n",
       "      <td>...</td>\n",
       "      <td>...</td>\n",
       "      <td>...</td>\n",
       "      <td>...</td>\n",
       "      <td>...</td>\n",
       "      <td>...</td>\n",
       "      <td>...</td>\n",
       "      <td>...</td>\n",
       "      <td>...</td>\n",
       "      <td>...</td>\n",
       "      <td>...</td>\n",
       "      <td>...</td>\n",
       "      <td>...</td>\n",
       "      <td>...</td>\n",
       "      <td>...</td>\n",
       "      <td>...</td>\n",
       "      <td>...</td>\n",
       "      <td>...</td>\n",
       "      <td>...</td>\n",
       "      <td>...</td>\n",
       "      <td>...</td>\n",
       "    </tr>\n",
       "    <tr>\n",
       "      <th>14708</th>\n",
       "      <td>15321.0</td>\n",
       "      <td>25.0</td>\n",
       "      <td>2.0</td>\n",
       "      <td>1.0</td>\n",
       "      <td>1.0</td>\n",
       "      <td>1100.00</td>\n",
       "      <td>8.0</td>\n",
       "      <td>0.0</td>\n",
       "      <td>0.0</td>\n",
       "      <td>0.0</td>\n",
       "      <td>...</td>\n",
       "      <td>0</td>\n",
       "      <td>0</td>\n",
       "      <td>0</td>\n",
       "      <td>0</td>\n",
       "      <td>1</td>\n",
       "      <td>0</td>\n",
       "      <td>0</td>\n",
       "      <td>0</td>\n",
       "      <td>0</td>\n",
       "      <td>0</td>\n",
       "    </tr>\n",
       "    <tr>\n",
       "      <th>14709</th>\n",
       "      <td>15370.0</td>\n",
       "      <td>24.0</td>\n",
       "      <td>3.0</td>\n",
       "      <td>3.0</td>\n",
       "      <td>0.0</td>\n",
       "      <td>533.33</td>\n",
       "      <td>0.0</td>\n",
       "      <td>0.0</td>\n",
       "      <td>0.0</td>\n",
       "      <td>0.0</td>\n",
       "      <td>...</td>\n",
       "      <td>0</td>\n",
       "      <td>0</td>\n",
       "      <td>0</td>\n",
       "      <td>0</td>\n",
       "      <td>0</td>\n",
       "      <td>0</td>\n",
       "      <td>1</td>\n",
       "      <td>0</td>\n",
       "      <td>0</td>\n",
       "      <td>0</td>\n",
       "    </tr>\n",
       "    <tr>\n",
       "      <th>14710</th>\n",
       "      <td>15371.0</td>\n",
       "      <td>1.0</td>\n",
       "      <td>3.0</td>\n",
       "      <td>3.0</td>\n",
       "      <td>0.0</td>\n",
       "      <td>533.33</td>\n",
       "      <td>0.0</td>\n",
       "      <td>0.0</td>\n",
       "      <td>0.0</td>\n",
       "      <td>0.0</td>\n",
       "      <td>...</td>\n",
       "      <td>0</td>\n",
       "      <td>0</td>\n",
       "      <td>0</td>\n",
       "      <td>0</td>\n",
       "      <td>0</td>\n",
       "      <td>0</td>\n",
       "      <td>1</td>\n",
       "      <td>0</td>\n",
       "      <td>0</td>\n",
       "      <td>0</td>\n",
       "    </tr>\n",
       "    <tr>\n",
       "      <th>14711</th>\n",
       "      <td>15372.0</td>\n",
       "      <td>46.0</td>\n",
       "      <td>3.0</td>\n",
       "      <td>3.0</td>\n",
       "      <td>0.0</td>\n",
       "      <td>533.33</td>\n",
       "      <td>0.0</td>\n",
       "      <td>0.0</td>\n",
       "      <td>0.0</td>\n",
       "      <td>0.0</td>\n",
       "      <td>...</td>\n",
       "      <td>0</td>\n",
       "      <td>0</td>\n",
       "      <td>0</td>\n",
       "      <td>0</td>\n",
       "      <td>0</td>\n",
       "      <td>0</td>\n",
       "      <td>1</td>\n",
       "      <td>0</td>\n",
       "      <td>0</td>\n",
       "      <td>0</td>\n",
       "    </tr>\n",
       "    <tr>\n",
       "      <th>14712</th>\n",
       "      <td>15377.0</td>\n",
       "      <td>42.0</td>\n",
       "      <td>1.0</td>\n",
       "      <td>1.0</td>\n",
       "      <td>0.0</td>\n",
       "      <td>11.59</td>\n",
       "      <td>0.0</td>\n",
       "      <td>0.0</td>\n",
       "      <td>0.0</td>\n",
       "      <td>0.0</td>\n",
       "      <td>...</td>\n",
       "      <td>0</td>\n",
       "      <td>0</td>\n",
       "      <td>0</td>\n",
       "      <td>0</td>\n",
       "      <td>0</td>\n",
       "      <td>0</td>\n",
       "      <td>1</td>\n",
       "      <td>0</td>\n",
       "      <td>0</td>\n",
       "      <td>0</td>\n",
       "    </tr>\n",
       "  </tbody>\n",
       "</table>\n",
       "<p>14713 rows × 71 columns</p>\n",
       "</div>"
      ],
      "text/plain": [
       "       ID number   Age  Number of Total Slaves  Number of Adult Slaves  \\\n",
       "0            1.0  40.0                     1.0                     1.0   \n",
       "1            2.0  44.0                     1.0                     1.0   \n",
       "2            3.0  24.0                     1.0                     1.0   \n",
       "3            4.0  23.0                     1.0                     1.0   \n",
       "4            5.0  12.0                     1.0                     1.0   \n",
       "...          ...   ...                     ...                     ...   \n",
       "14708    15321.0  25.0                     2.0                     1.0   \n",
       "14709    15370.0  24.0                     3.0                     3.0   \n",
       "14710    15371.0   1.0                     3.0                     3.0   \n",
       "14711    15372.0  46.0                     3.0                     3.0   \n",
       "14712    15377.0  42.0                     1.0                     1.0   \n",
       "\n",
       "       Number of Child Slaves    Price  Age Child 1  Age Child 2  Age Child 3  \\\n",
       "0                         0.0   650.00          0.0          0.0          0.0   \n",
       "1                         0.0   550.00          0.0          0.0          0.0   \n",
       "2                         0.0  1000.00          0.0          0.0          0.0   \n",
       "3                         0.0  1400.00          0.0          0.0          0.0   \n",
       "4                         0.0   700.00          0.0          0.0          0.0   \n",
       "...                       ...      ...          ...          ...          ...   \n",
       "14708                     1.0  1100.00          8.0          0.0          0.0   \n",
       "14709                     0.0   533.33          0.0          0.0          0.0   \n",
       "14710                     0.0   533.33          0.0          0.0          0.0   \n",
       "14711                     0.0   533.33          0.0          0.0          0.0   \n",
       "14712                     0.0    11.59          0.0          0.0          0.0   \n",
       "\n",
       "       Age Child 4  ...  Light Brown  Light Griff  Light Mulatto  Light Negro  \\\n",
       "0              0.0  ...            0            0              0            0   \n",
       "1              0.0  ...            0            0              0            0   \n",
       "2              0.0  ...            0            0              0            0   \n",
       "3              0.0  ...            0            0              0            0   \n",
       "4              0.0  ...            0            0              0            0   \n",
       "...            ...  ...          ...          ...            ...          ...   \n",
       "14708          0.0  ...            0            0              0            0   \n",
       "14709          0.0  ...            0            0              0            0   \n",
       "14710          0.0  ...            0            0              0            0   \n",
       "14711          0.0  ...            0            0              0            0   \n",
       "14712          0.0  ...            0            0              0            0   \n",
       "\n",
       "       Mulatto  Mulatto, Griff  Negro  Quarteroon  Yellow  Yellow, Griff  \n",
       "0            0               0      0           0       0              0  \n",
       "1            0               0      1           0       0              0  \n",
       "2            0               0      1           0       0              0  \n",
       "3            0               0      1           0       0              0  \n",
       "4            0               0      1           0       0              0  \n",
       "...        ...             ...    ...         ...     ...            ...  \n",
       "14708        1               0      0           0       0              0  \n",
       "14709        0               0      1           0       0              0  \n",
       "14710        0               0      1           0       0              0  \n",
       "14711        0               0      1           0       0              0  \n",
       "14712        0               0      1           0       0              0  \n",
       "\n",
       "[14713 rows x 71 columns]"
      ]
     },
     "execution_count": 3,
     "metadata": {},
     "output_type": "execute_result"
    }
   ],
   "source": [
    "data"
   ]
  },
  {
   "cell_type": "code",
   "execution_count": 4,
   "metadata": {},
   "outputs": [
    {
     "name": "stdout",
     "output_type": "stream",
     "text": [
      "<class 'pandas.core.frame.DataFrame'>\n",
      "Int64Index: 14713 entries, 0 to 14712\n",
      "Data columns (total 71 columns):\n",
      " #   Column                  Non-Null Count  Dtype  \n",
      "---  ------                  --------------  -----  \n",
      " 0   ID number               14713 non-null  float64\n",
      " 1   Age                     14713 non-null  float64\n",
      " 2   Number of Total Slaves  14713 non-null  float64\n",
      " 3   Number of Adult Slaves  14713 non-null  float64\n",
      " 4   Number of Child Slaves  14713 non-null  float64\n",
      " 5   Price                   14713 non-null  float64\n",
      " 6   Age Child 1             14713 non-null  float64\n",
      " 7   Age Child 2             14713 non-null  float64\n",
      " 8   Age Child 3             14713 non-null  float64\n",
      " 9   Age Child 4             14713 non-null  float64\n",
      " 10  Age Child 5             14713 non-null  float64\n",
      " 11  Age Child 6             14713 non-null  float64\n",
      " 12  Age Child 7             14713 non-null  float64\n",
      " 13  Age Child 8             14713 non-null  float64\n",
      " 14  F                       14713 non-null  uint8  \n",
      " 15  M                       14713 non-null  uint8  \n",
      " 16  Sex Child 1_.           14713 non-null  uint8  \n",
      " 17  Sex Child 1_F           14713 non-null  uint8  \n",
      " 18  Sex Child 1_M           14713 non-null  uint8  \n",
      " 19  Sex Child 2_.           14713 non-null  uint8  \n",
      " 20  Sex Child 2_F           14713 non-null  uint8  \n",
      " 21  Sex Child 2_M           14713 non-null  uint8  \n",
      " 22  Sex Child 3_.           14713 non-null  uint8  \n",
      " 23  Sex Child 3_F           14713 non-null  uint8  \n",
      " 24  Sex Child 3_M           14713 non-null  uint8  \n",
      " 25  Sex Child 4_.           14713 non-null  uint8  \n",
      " 26  Sex Child 4_F           14713 non-null  uint8  \n",
      " 27  Sex Child 4_M           14713 non-null  uint8  \n",
      " 28  Sex Child 5_.           14713 non-null  uint8  \n",
      " 29  Sex Child 5_F           14713 non-null  uint8  \n",
      " 30  Sex Child 5_M           14713 non-null  uint8  \n",
      " 31  Sex Child 6_.           14713 non-null  uint8  \n",
      " 32  Sex Child 6_F           14713 non-null  uint8  \n",
      " 33  Sex Child 6_M           14713 non-null  uint8  \n",
      " 34  Sex Child 7_.           14713 non-null  uint8  \n",
      " 35  Sex Child 7_F           14713 non-null  uint8  \n",
      " 36  Sex Child 8_.           14713 non-null  uint8  \n",
      " 37  .                       14713 non-null  uint8  \n",
      " 38  Albino, Negro           14713 non-null  uint8  \n",
      " 39  Black                   14713 non-null  uint8  \n",
      " 40  Black Negro             14713 non-null  uint8  \n",
      " 41  Bright Color            14713 non-null  uint8  \n",
      " 42  Bright Mulatto          14713 non-null  uint8  \n",
      " 43  Brown                   14713 non-null  uint8  \n",
      " 44  Chestnut                14713 non-null  uint8  \n",
      " 45  Colored                 14713 non-null  uint8  \n",
      " 46  Copper                  14713 non-null  uint8  \n",
      " 47  Creole                  14713 non-null  uint8  \n",
      " 48  Creole Mulatto          14713 non-null  uint8  \n",
      " 49  Creole Negro            14713 non-null  uint8  \n",
      " 50  Dark                    14713 non-null  uint8  \n",
      " 51  Dark Copper             14713 non-null  uint8  \n",
      " 52  Dark Griff              14713 non-null  uint8  \n",
      " 53  Dark Mulatto            14713 non-null  uint8  \n",
      " 54  Dark Negro              14713 non-null  uint8  \n",
      " 55  Dark Orange, Griff      14713 non-null  uint8  \n",
      " 56  Fair Mulatto            14713 non-null  uint8  \n",
      " 57  Griff                   14713 non-null  uint8  \n",
      " 58  Griff Creole            14713 non-null  uint8  \n",
      " 59  Light                   14713 non-null  uint8  \n",
      " 60  Light Black             14713 non-null  uint8  \n",
      " 61  Light Brown             14713 non-null  uint8  \n",
      " 62  Light Griff             14713 non-null  uint8  \n",
      " 63  Light Mulatto           14713 non-null  uint8  \n",
      " 64  Light Negro             14713 non-null  uint8  \n",
      " 65  Mulatto                 14713 non-null  uint8  \n",
      " 66  Mulatto, Griff          14713 non-null  uint8  \n",
      " 67  Negro                   14713 non-null  uint8  \n",
      " 68  Quarteroon              14713 non-null  uint8  \n",
      " 69  Yellow                  14713 non-null  uint8  \n",
      " 70  Yellow, Griff           14713 non-null  uint8  \n",
      "dtypes: float64(14), uint8(57)\n",
      "memory usage: 2.5 MB\n"
     ]
    }
   ],
   "source": [
    "data.info()"
   ]
  },
  {
   "cell_type": "code",
   "execution_count": 5,
   "metadata": {},
   "outputs": [
    {
     "data": {
      "text/plain": [
       "Index(['ID number', 'Age', 'Number of Total Slaves', 'Number of Adult Slaves',\n",
       "       'Number of Child Slaves', 'Price', 'Age Child 1', 'Age Child 2',\n",
       "       'Age Child 3', 'Age Child 4', 'Age Child 5', 'Age Child 6',\n",
       "       'Age Child 7', 'Age Child 8', 'F', 'M', 'Sex Child 1_.',\n",
       "       'Sex Child 1_F', 'Sex Child 1_M', 'Sex Child 2_.', 'Sex Child 2_F',\n",
       "       'Sex Child 2_M', 'Sex Child 3_.', 'Sex Child 3_F', 'Sex Child 3_M',\n",
       "       'Sex Child 4_.', 'Sex Child 4_F', 'Sex Child 4_M', 'Sex Child 5_.',\n",
       "       'Sex Child 5_F', 'Sex Child 5_M', 'Sex Child 6_.', 'Sex Child 6_F',\n",
       "       'Sex Child 6_M', 'Sex Child 7_.', 'Sex Child 7_F', 'Sex Child 8_.', '.',\n",
       "       'Albino, Negro', 'Black', 'Black Negro', 'Bright Color',\n",
       "       'Bright Mulatto', 'Brown', 'Chestnut', 'Colored', 'Copper', 'Creole',\n",
       "       'Creole Mulatto', 'Creole Negro', 'Dark', 'Dark Copper', 'Dark Griff',\n",
       "       'Dark Mulatto', 'Dark Negro', 'Dark Orange, Griff', 'Fair Mulatto',\n",
       "       'Griff', 'Griff Creole', 'Light', 'Light Black', 'Light Brown',\n",
       "       'Light Griff', 'Light Mulatto', 'Light Negro', 'Mulatto',\n",
       "       'Mulatto, Griff', 'Negro', 'Quarteroon', 'Yellow', 'Yellow, Griff'],\n",
       "      dtype='object')"
      ]
     },
     "execution_count": 5,
     "metadata": {},
     "output_type": "execute_result"
    }
   ],
   "source": [
    "data.columns"
   ]
  },
  {
   "cell_type": "code",
   "execution_count": 6,
   "metadata": {},
   "outputs": [],
   "source": [
    "X = data.drop(columns=['Price', 'ID number'])"
   ]
  },
  {
   "cell_type": "code",
   "execution_count": 7,
   "metadata": {},
   "outputs": [],
   "source": [
    "y = data['Price']"
   ]
  },
  {
   "cell_type": "code",
   "execution_count": 8,
   "metadata": {},
   "outputs": [],
   "source": [
    "X_train, X_test, y_train, y_test = \\\n",
    "train_test_split(X, y, test_size=0.33, random_state=42)"
   ]
  },
  {
   "cell_type": "code",
   "execution_count": 9,
   "metadata": {},
   "outputs": [],
   "source": [
    "lm = LinearRegression()"
   ]
  },
  {
   "cell_type": "code",
   "execution_count": 10,
   "metadata": {},
   "outputs": [],
   "source": [
    "reg = lm.fit(X_train,y_train)"
   ]
  },
  {
   "cell_type": "code",
   "execution_count": 11,
   "metadata": {},
   "outputs": [
    {
     "data": {
      "text/plain": [
       "array([-7.54388187e+00,  1.26081802e+01, -1.62025826e+01,  2.88107628e+01,\n",
       "        4.58250801e+01,  5.05424382e+01,  3.54377275e+01, -2.82566083e+01,\n",
       "        1.32493971e+02, -8.75808570e+02,  1.78886291e+03, -1.50066626e-11,\n",
       "       -3.94232647e+02, -1.64702995e+02, -6.26125861e+01,  1.17223688e+02,\n",
       "        1.19309799e+02, -6.26125861e+01, -1.50531368e+02, -1.58463995e+02,\n",
       "       -2.33456289e+00,  3.45142726e+01,  5.02116998e+01, -2.33456289e+00,\n",
       "        1.29975163e+01,  3.28459512e+01, -2.33456289e+00,  6.04107287e+01,\n",
       "        1.15000549e+02, -2.33456289e+00, -4.00091849e+01,  1.48930307e+02,\n",
       "       -2.33456289e+00, -3.41817776e+01, -8.36071448e+00, -1.58451030e-12,\n",
       "        2.23705919e+02,  1.85858574e+02,  4.27047569e+02,  1.30850390e+02,\n",
       "       -3.15183494e+02,  2.22940896e+02, -6.57724331e+01, -5.68434189e-13,\n",
       "        3.90632761e+02,  3.69208531e+01,  3.75884606e+02,  1.60379876e+02,\n",
       "        2.08540119e+02,  7.79551755e+02,  1.82395751e+02, -1.10907518e+02,\n",
       "        3.54317776e+02,  1.20566429e+02,  1.42108547e-14,  1.83532573e+02,\n",
       "        0.00000000e+00,  1.30402139e+02,  0.00000000e+00,  0.00000000e+00,\n",
       "       -1.75298102e+01,  1.19192209e+02, -8.10834885e-01,  1.21268294e+02,\n",
       "        1.49869145e+02,  1.93573345e+02, -1.89900645e+02,  1.96675842e+02,\n",
       "       -8.20960363e+01])"
      ]
     },
     "execution_count": 11,
     "metadata": {},
     "output_type": "execute_result"
    }
   ],
   "source": [
    "lm.coef_"
   ]
  },
  {
   "cell_type": "code",
   "execution_count": 12,
   "metadata": {},
   "outputs": [],
   "source": [
    "predictions = lm.predict(X_test)"
   ]
  },
  {
   "cell_type": "code",
   "execution_count": 13,
   "metadata": {},
   "outputs": [],
   "source": [
    "guesses = pd.Series(data=predictions, name='Guesses')"
   ]
  },
  {
   "cell_type": "code",
   "execution_count": 14,
   "metadata": {},
   "outputs": [],
   "source": [
    "res = pd.concat([y_test.reset_index(), guesses], axis=1)[['Price', 'Guesses']]"
   ]
  },
  {
   "cell_type": "code",
   "execution_count": 15,
   "metadata": {},
   "outputs": [
    {
     "data": {
      "text/html": [
       "<div>\n",
       "<style scoped>\n",
       "    .dataframe tbody tr th:only-of-type {\n",
       "        vertical-align: middle;\n",
       "    }\n",
       "\n",
       "    .dataframe tbody tr th {\n",
       "        vertical-align: top;\n",
       "    }\n",
       "\n",
       "    .dataframe thead th {\n",
       "        text-align: right;\n",
       "    }\n",
       "</style>\n",
       "<table border=\"1\" class=\"dataframe\">\n",
       "  <thead>\n",
       "    <tr style=\"text-align: right;\">\n",
       "      <th></th>\n",
       "      <th>Price</th>\n",
       "      <th>Guesses</th>\n",
       "    </tr>\n",
       "  </thead>\n",
       "  <tbody>\n",
       "    <tr>\n",
       "      <th>0</th>\n",
       "      <td>780.00</td>\n",
       "      <td>740.450717</td>\n",
       "    </tr>\n",
       "    <tr>\n",
       "      <th>1</th>\n",
       "      <td>975.00</td>\n",
       "      <td>1085.256079</td>\n",
       "    </tr>\n",
       "    <tr>\n",
       "      <th>2</th>\n",
       "      <td>710.48</td>\n",
       "      <td>1246.332425</td>\n",
       "    </tr>\n",
       "    <tr>\n",
       "      <th>3</th>\n",
       "      <td>715.82</td>\n",
       "      <td>639.203767</td>\n",
       "    </tr>\n",
       "    <tr>\n",
       "      <th>4</th>\n",
       "      <td>1100.00</td>\n",
       "      <td>754.163280</td>\n",
       "    </tr>\n",
       "  </tbody>\n",
       "</table>\n",
       "</div>"
      ],
      "text/plain": [
       "     Price      Guesses\n",
       "0   780.00   740.450717\n",
       "1   975.00  1085.256079\n",
       "2   710.48  1246.332425\n",
       "3   715.82   639.203767\n",
       "4  1100.00   754.163280"
      ]
     },
     "execution_count": 15,
     "metadata": {},
     "output_type": "execute_result"
    }
   ],
   "source": [
    "res.head()"
   ]
  },
  {
   "cell_type": "code",
   "execution_count": 16,
   "metadata": {},
   "outputs": [
    {
     "data": {
      "text/plain": [
       "0.2360685288223373"
      ]
     },
     "execution_count": 16,
     "metadata": {},
     "output_type": "execute_result"
    }
   ],
   "source": [
    "reg.score(X_test, y_test)"
   ]
  },
  {
   "cell_type": "code",
   "execution_count": 17,
   "metadata": {},
   "outputs": [
    {
     "data": {
      "text/plain": [
       "Text(0, 0.5, 'Predicted Y')"
      ]
     },
     "execution_count": 17,
     "metadata": {},
     "output_type": "execute_result"
    },
    {
     "data": {
      "image/png": "[encoded data removed]",
      "text/plain": [
       "<Figure size 432x288 with 1 Axes>"
      ]
     },
     "metadata": {
      "needs_background": "light"
     },
     "output_type": "display_data"
    }
   ],
   "source": [
    "plt.scatter(x = y_test, y = predictions)\n",
    "plt.xlabel('Y Test')\n",
    "plt.ylabel('Predicted Y')"
   ]
  },
  {
   "cell_type": "code",
   "execution_count": 18,
   "metadata": {},
   "outputs": [
    {
     "name": "stdout",
     "output_type": "stream",
     "text": [
      "MAE: 328.1134552295708   328.1134552295719\n",
      "MSE: 201535.28895138192   201535.28895138248\n",
      "RMSE: 448.92681914915926   448.9268191491598\n"
     ]
    }
   ],
   "source": [
    "from sklearn import metrics\n",
    "from math import sqrt\n",
    "\n",
    "print('MAE:', \n",
    "      metrics.mean_absolute_error(y_test, predictions), ' ',\n",
    "      (1./len(y_test))*(sum(abs(y_test-predictions))))\n",
    "print('MSE:', \n",
    "      metrics.mean_squared_error(y_test, predictions), ' ',\n",
    "      (1./len(y_test))*(sum((y_test-predictions)**2)))\n",
    "print('RMSE:', \n",
    "      np.sqrt(metrics.mean_squared_error(y_test, predictions)), ' ',\n",
    "      sqrt((1./len(y_test))*(sum((y_test-predictions)**2))))"
   ]
  },
  {
   "cell_type": "code",
   "execution_count": 19,
   "metadata": {},
   "outputs": [
    {
     "data": {
      "text/plain": [
       "<matplotlib.axes._subplots.AxesSubplot at 0x2a7d0183ee0>"
      ]
     },
     "execution_count": 19,
     "metadata": {},
     "output_type": "execute_result"
    },
    {
     "data": {
      "image/png": "[encoded data removed]",
      "text/plain": [
       "<Figure size 432x288 with 1 Axes>"
      ]
     },
     "metadata": {
      "needs_background": "light"
     },
     "output_type": "display_data"
    }
   ],
   "source": [
    "sns.distplot((y_test-predictions), bins = 50)"
   ]
  },
  {
   "cell_type": "code",
   "execution_count": 20,
   "metadata": {},
   "outputs": [
    {
     "data": {
      "text/html": [
       "<div>\n",
       "<style scoped>\n",
       "    .dataframe tbody tr th:only-of-type {\n",
       "        vertical-align: middle;\n",
       "    }\n",
       "\n",
       "    .dataframe tbody tr th {\n",
       "        vertical-align: top;\n",
       "    }\n",
       "\n",
       "    .dataframe thead th {\n",
       "        text-align: right;\n",
       "    }\n",
       "</style>\n",
       "<table border=\"1\" class=\"dataframe\">\n",
       "  <thead>\n",
       "    <tr style=\"text-align: right;\">\n",
       "      <th></th>\n",
       "      <th>Coefficient</th>\n",
       "    </tr>\n",
       "  </thead>\n",
       "  <tbody>\n",
       "    <tr>\n",
       "      <th>Age</th>\n",
       "      <td>-7.543882</td>\n",
       "    </tr>\n",
       "    <tr>\n",
       "      <th>Number of Total Slaves</th>\n",
       "      <td>12.608180</td>\n",
       "    </tr>\n",
       "    <tr>\n",
       "      <th>Number of Adult Slaves</th>\n",
       "      <td>-16.202583</td>\n",
       "    </tr>\n",
       "    <tr>\n",
       "      <th>Number of Child Slaves</th>\n",
       "      <td>28.810763</td>\n",
       "    </tr>\n",
       "    <tr>\n",
       "      <th>Age Child 1</th>\n",
       "      <td>45.825080</td>\n",
       "    </tr>\n",
       "  </tbody>\n",
       "</table>\n",
       "</div>"
      ],
      "text/plain": [
       "                        Coefficient\n",
       "Age                       -7.543882\n",
       "Number of Total Slaves    12.608180\n",
       "Number of Adult Slaves   -16.202583\n",
       "Number of Child Slaves    28.810763\n",
       "Age Child 1               45.825080"
      ]
     },
     "execution_count": 20,
     "metadata": {},
     "output_type": "execute_result"
    }
   ],
   "source": [
    "df = pd.DataFrame( data = lm.coef_, columns = ['Coefficient'] ,index = X_train.columns)\n",
    "df.head()"
   ]
  }
 ],
 "metadata": {
  "kernelspec": {
   "display_name": "Python 3",
   "language": "python",
   "name": "python3"
  },
  "language_info": {
   "codemirror_mode": {
    "name": "ipython",
    "version": 3
   },
   "file_extension": ".py",
   "mimetype": "text/x-python",
   "name": "python",
   "nbconvert_exporter": "python",
   "pygments_lexer": "ipython3",
   "version": "3.8.3"
  }
 },
 "nbformat": 4,
 "nbformat_minor": 4
}
