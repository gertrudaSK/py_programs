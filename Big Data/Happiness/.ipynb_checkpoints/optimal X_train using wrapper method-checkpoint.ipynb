{
 "cells": [
  {
   "cell_type": "code",
   "execution_count": 48,
   "metadata": {},
   "outputs": [],
   "source": [
    "from sklearn.datasets import load_boston\n",
    "import pandas as pd\n",
    "import numpy as np\n",
    "import matplotlib\n",
    "import matplotlib.pyplot as plt\n",
    "import seaborn as sns\n",
    "import statsmodels.api as sm\n",
    "%matplotlib inline\n",
    "from sklearn.model_selection import train_test_split\n",
    "from sklearn.linear_model import LinearRegression\n",
    "from sklearn.feature_selection import RFE\n",
    "from sklearn.linear_model import RidgeCV, LassoCV, Ridge, Lasso"
   ]
  },
  {
   "cell_type": "code",
   "execution_count": 49,
   "metadata": {},
   "outputs": [],
   "source": [
    "\n",
    "df = pd.read_csv('happiness.csv')\n",
    "#df[\"Score\"] = x.target\n"
   ]
  },
  {
   "cell_type": "code",
   "execution_count": 50,
   "metadata": {},
   "outputs": [],
   "source": [
    "df.dropna(inplace=True)"
   ]
  },
  {
   "cell_type": "code",
   "execution_count": 51,
   "metadata": {},
   "outputs": [],
   "source": [
    "df.drop(['Country'], axis=1, inplace=True)"
   ]
  },
  {
   "cell_type": "code",
   "execution_count": 52,
   "metadata": {},
   "outputs": [
    {
     "data": {
      "text/html": [
       "<div>\n",
       "<style scoped>\n",
       "    .dataframe tbody tr th:only-of-type {\n",
       "        vertical-align: middle;\n",
       "    }\n",
       "\n",
       "    .dataframe tbody tr th {\n",
       "        vertical-align: top;\n",
       "    }\n",
       "\n",
       "    .dataframe thead th {\n",
       "        text-align: right;\n",
       "    }\n",
       "</style>\n",
       "<table border=\"1\" class=\"dataframe\">\n",
       "  <thead>\n",
       "    <tr style=\"text-align: right;\">\n",
       "      <th></th>\n",
       "      <th>Score</th>\n",
       "      <th>Life Expectancy</th>\n",
       "      <th>GDP Per Capita</th>\n",
       "      <th>Crime Index</th>\n",
       "      <th>Death Rate</th>\n",
       "      <th>Birth rate</th>\n",
       "      <th>Marriage rate</th>\n",
       "      <th>Divorce rate</th>\n",
       "      <th>Literacy rate</th>\n",
       "      <th>Electricity access</th>\n",
       "      <th>Unemployment rate</th>\n",
       "      <th>Fossil fuels</th>\n",
       "      <th>Net migration</th>\n",
       "      <th>Diabetes Prevalance</th>\n",
       "      <th>HIV Prevalance</th>\n",
       "      <th>Rights Strength</th>\n",
       "      <th>Women in Parliament</th>\n",
       "      <th>Car Accidents</th>\n",
       "      <th>Urban Population</th>\n",
       "      <th>Average Rainfall</th>\n",
       "    </tr>\n",
       "  </thead>\n",
       "  <tbody>\n",
       "    <tr>\n",
       "      <th>1</th>\n",
       "      <td>4.719</td>\n",
       "      <td>78.96</td>\n",
       "      <td>5352.857411</td>\n",
       "      <td>40.30</td>\n",
       "      <td>7.898</td>\n",
       "      <td>11.780</td>\n",
       "      <td>7.8</td>\n",
       "      <td>1.9</td>\n",
       "      <td>98.14115</td>\n",
       "      <td>100.000000</td>\n",
       "      <td>12.331</td>\n",
       "      <td>61.421801</td>\n",
       "      <td>-69998</td>\n",
       "      <td>9.0</td>\n",
       "      <td>767.292729</td>\n",
       "      <td>8.0</td>\n",
       "      <td>29.508197</td>\n",
       "      <td>13.6</td>\n",
       "      <td>61.229</td>\n",
       "      <td>1485.0</td>\n",
       "    </tr>\n",
       "    <tr>\n",
       "      <th>10</th>\n",
       "      <td>5.323</td>\n",
       "      <td>75.20</td>\n",
       "      <td>6663.295293</td>\n",
       "      <td>23.53</td>\n",
       "      <td>12.700</td>\n",
       "      <td>9.900</td>\n",
       "      <td>9.2</td>\n",
       "      <td>4.1</td>\n",
       "      <td>99.75656</td>\n",
       "      <td>100.000000</td>\n",
       "      <td>4.595</td>\n",
       "      <td>92.440375</td>\n",
       "      <td>43648</td>\n",
       "      <td>5.0</td>\n",
       "      <td>5722.068657</td>\n",
       "      <td>3.0</td>\n",
       "      <td>40.000000</td>\n",
       "      <td>8.9</td>\n",
       "      <td>79.044</td>\n",
       "      <td>618.0</td>\n",
       "    </tr>\n",
       "    <tr>\n",
       "      <th>17</th>\n",
       "      <td>6.300</td>\n",
       "      <td>76.57</td>\n",
       "      <td>8717.186278</td>\n",
       "      <td>70.24</td>\n",
       "      <td>6.452</td>\n",
       "      <td>13.924</td>\n",
       "      <td>6.6</td>\n",
       "      <td>1.4</td>\n",
       "      <td>93.22750</td>\n",
       "      <td>100.000000</td>\n",
       "      <td>12.083</td>\n",
       "      <td>59.107533</td>\n",
       "      <td>106000</td>\n",
       "      <td>10.4</td>\n",
       "      <td>2740.911142</td>\n",
       "      <td>2.0</td>\n",
       "      <td>15.009747</td>\n",
       "      <td>19.7</td>\n",
       "      <td>86.824</td>\n",
       "      <td>1761.0</td>\n",
       "    </tr>\n",
       "    <tr>\n",
       "      <th>27</th>\n",
       "      <td>5.191</td>\n",
       "      <td>77.47</td>\n",
       "      <td>10261.679130</td>\n",
       "      <td>45.46</td>\n",
       "      <td>7.100</td>\n",
       "      <td>10.900</td>\n",
       "      <td>7.2</td>\n",
       "      <td>3.2</td>\n",
       "      <td>96.84089</td>\n",
       "      <td>100.000000</td>\n",
       "      <td>4.320</td>\n",
       "      <td>87.670431</td>\n",
       "      <td>-1741996</td>\n",
       "      <td>9.2</td>\n",
       "      <td>734.975299</td>\n",
       "      <td>4.0</td>\n",
       "      <td>24.941176</td>\n",
       "      <td>18.2</td>\n",
       "      <td>60.308</td>\n",
       "      <td>645.0</td>\n",
       "    </tr>\n",
       "    <tr>\n",
       "      <th>28</th>\n",
       "      <td>6.125</td>\n",
       "      <td>77.87</td>\n",
       "      <td>6432.387583</td>\n",
       "      <td>51.26</td>\n",
       "      <td>5.562</td>\n",
       "      <td>14.882</td>\n",
       "      <td>2.3</td>\n",
       "      <td>0.7</td>\n",
       "      <td>95.09251</td>\n",
       "      <td>99.936447</td>\n",
       "      <td>9.707</td>\n",
       "      <td>76.685693</td>\n",
       "      <td>1023981</td>\n",
       "      <td>7.4</td>\n",
       "      <td>780.660207</td>\n",
       "      <td>11.0</td>\n",
       "      <td>18.713450</td>\n",
       "      <td>18.5</td>\n",
       "      <td>81.104</td>\n",
       "      <td>3240.0</td>\n",
       "    </tr>\n",
       "  </tbody>\n",
       "</table>\n",
       "</div>"
      ],
      "text/plain": [
       "    Score  Life Expectancy  GDP Per Capita  Crime Index  Death Rate  \\\n",
       "1   4.719            78.96     5352.857411        40.30       7.898   \n",
       "10  5.323            75.20     6663.295293        23.53      12.700   \n",
       "17  6.300            76.57     8717.186278        70.24       6.452   \n",
       "27  5.191            77.47    10261.679130        45.46       7.100   \n",
       "28  6.125            77.87     6432.387583        51.26       5.562   \n",
       "\n",
       "    Birth rate  Marriage rate  Divorce rate  Literacy rate  \\\n",
       "1       11.780            7.8           1.9       98.14115   \n",
       "10       9.900            9.2           4.1       99.75656   \n",
       "17      13.924            6.6           1.4       93.22750   \n",
       "27      10.900            7.2           3.2       96.84089   \n",
       "28      14.882            2.3           0.7       95.09251   \n",
       "\n",
       "    Electricity access  Unemployment rate  Fossil fuels  Net migration  \\\n",
       "1           100.000000             12.331     61.421801         -69998   \n",
       "10          100.000000              4.595     92.440375          43648   \n",
       "17          100.000000             12.083     59.107533         106000   \n",
       "27          100.000000              4.320     87.670431       -1741996   \n",
       "28           99.936447              9.707     76.685693        1023981   \n",
       "\n",
       "    Diabetes Prevalance  HIV Prevalance  Rights Strength  Women in Parliament  \\\n",
       "1                   9.0      767.292729              8.0            29.508197   \n",
       "10                  5.0     5722.068657              3.0            40.000000   \n",
       "17                 10.4     2740.911142              2.0            15.009747   \n",
       "27                  9.2      734.975299              4.0            24.941176   \n",
       "28                  7.4      780.660207             11.0            18.713450   \n",
       "\n",
       "    Car Accidents  Urban Population  Average Rainfall  \n",
       "1            13.6            61.229            1485.0  \n",
       "10            8.9            79.044             618.0  \n",
       "17           19.7            86.824            1761.0  \n",
       "27           18.2            60.308             645.0  \n",
       "28           18.5            81.104            3240.0  "
      ]
     },
     "execution_count": 52,
     "metadata": {},
     "output_type": "execute_result"
    }
   ],
   "source": [
    "X = df.drop(\"Score\",1)   #Feature Matrix\n",
    "y = df[\"Score\"]          #Target Variable\n",
    "df.head()"
   ]
  },
  {
   "cell_type": "code",
   "execution_count": 53,
   "metadata": {},
   "outputs": [
    {
     "name": "stdout",
     "output_type": "stream",
     "text": [
      "<class 'pandas.core.frame.DataFrame'>\n",
      "Int64Index: 26 entries, 1 to 140\n",
      "Data columns (total 20 columns):\n",
      " #   Column               Non-Null Count  Dtype  \n",
      "---  ------               --------------  -----  \n",
      " 0   Score                26 non-null     float64\n",
      " 1   Life Expectancy      26 non-null     float64\n",
      " 2   GDP Per Capita       26 non-null     float64\n",
      " 3   Crime Index          26 non-null     float64\n",
      " 4   Death Rate           26 non-null     float64\n",
      " 5   Birth rate           26 non-null     float64\n",
      " 6   Marriage rate        26 non-null     float64\n",
      " 7   Divorce rate         26 non-null     float64\n",
      " 8   Literacy rate        26 non-null     float64\n",
      " 9   Electricity access   26 non-null     float64\n",
      " 10  Unemployment rate    26 non-null     float64\n",
      " 11  Fossil fuels         26 non-null     float64\n",
      " 12  Net migration        26 non-null     int64  \n",
      " 13  Diabetes Prevalance  26 non-null     float64\n",
      " 14  HIV Prevalance       26 non-null     float64\n",
      " 15  Rights Strength      26 non-null     float64\n",
      " 16  Women in Parliament  26 non-null     float64\n",
      " 17  Car Accidents        26 non-null     float64\n",
      " 18  Urban Population     26 non-null     float64\n",
      " 19  Average Rainfall     26 non-null     float64\n",
      "dtypes: float64(19), int64(1)\n",
      "memory usage: 4.3 KB\n"
     ]
    }
   ],
   "source": [
    "df.info()"
   ]
  },
  {
   "cell_type": "code",
   "execution_count": 54,
   "metadata": {},
   "outputs": [
    {
     "name": "stdout",
     "output_type": "stream",
     "text": [
      "Best alpha using built-in LassoCV: 983.700827\n",
      "Best score using built-in LassoCV: 0.130513\n"
     ]
    }
   ],
   "source": [
    "reg = LassoCV()\n",
    "reg.fit(X, y)\n",
    "print(\"Best alpha using built-in LassoCV: %f\" % reg.alpha_)\n",
    "print(\"Best score using built-in LassoCV: %f\" %reg.score(X,y))\n",
    "coef = pd.Series(reg.coef_, index = X.columns)"
   ]
  },
  {
   "cell_type": "code",
   "execution_count": 55,
   "metadata": {},
   "outputs": [
    {
     "name": "stdout",
     "output_type": "stream",
     "text": [
      "Lasso picked 2 variables and eliminated the other 17 variables\n"
     ]
    }
   ],
   "source": [
    "print(\"Lasso picked \" + str(sum(coef != 0)) + \" variables and eliminated the other \" +  str(sum(coef == 0)) + \" variables\")"
   ]
  },
  {
   "cell_type": "code",
   "execution_count": 56,
   "metadata": {},
   "outputs": [
    {
     "data": {
      "text/plain": [
       "Text(0.5, 1.0, 'Feature importance using Lasso Model')"
      ]
     },
     "execution_count": 56,
     "metadata": {},
     "output_type": "execute_result"
    },
    {
     "data": {
      "image/png": "[encoded data removed]",
      "text/plain": [
       "<Figure size 576x720 with 1 Axes>"
      ]
     },
     "metadata": {
      "needs_background": "light"
     },
     "output_type": "display_data"
    }
   ],
   "source": [
    "imp_coef = coef.sort_values()\n",
    "import matplotlib\n",
    "matplotlib.rcParams['figure.figsize'] = (8.0, 10.0)\n",
    "imp_coef.plot(kind = \"barh\")\n",
    "plt.title(\"Feature importance using Lasso Model\")"
   ]
  },
  {
   "cell_type": "markdown",
   "metadata": {},
   "source": [
    "# "
   ]
  }
 ],
 "metadata": {
  "kernelspec": {
   "display_name": "Python 3",
   "language": "python",
   "name": "python3"
  },
  "language_info": {
   "codemirror_mode": {
    "name": "ipython",
    "version": 3
   },
   "file_extension": ".py",
   "mimetype": "text/x-python",
   "name": "python",
   "nbconvert_exporter": "python",
   "pygments_lexer": "ipython3",
   "version": "3.8.3"
  }
 },
 "nbformat": 4,
 "nbformat_minor": 4
}
